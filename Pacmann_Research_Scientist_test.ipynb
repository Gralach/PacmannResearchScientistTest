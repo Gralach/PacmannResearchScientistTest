{
 "cells": [
  {
   "cell_type": "markdown",
   "metadata": {
    "id": "Kqkg6uNP5HHY"
   },
   "source": [
    "# Test\n",
    "\n",
    "Hello there! Congratulations on passing the previous test and welcome to this session. Before we started, here's some information regarding this test:\n",
    "\n",
    "- You'll have 2 hours to finish this test.\n",
    "- You have to answer **at least** 1 problem.\n",
    "- Write down all assumptions needed.\n",
    "- Please make sure that your codes are clean. (or at least readable)\n",
    "- Please answer the question using a function.\n",
    "- You are allowed to ask the proctor.\n",
    "- Only `numpy` package is allowed.\n",
    "    - You may ask the proctor if you want to use other packages."
   ]
  },
  {
   "cell_type": "markdown",
   "metadata": {
    "id": "s9Qe26QGCEZ4"
   },
   "source": [
    "## Problem 1\n",
    "\n",
    "1. Given a dataset that consists of 2 columns and 500 rows.\n",
    "    - Each rows represent an individual.\n",
    "    - And each columns can be interpreted as a \"feature\" of an individual.\n",
    "    - Now, you are asked to rank each individuals.\n",
    "    - In this problem, we assume that low scores on both features are better.\n",
    "    - Build a function to do the task\n",
    "\n",
    "> Note: You may use any algorithms / methods that you know. If you don't know any, you may \"invent\" yourself as long as you only use `numpy`. Please write down all of the assumptions that you want to use."
   ]
  },
  {
   "cell_type": "code",
   "execution_count": 1,
   "metadata": {
    "id": "-8aZ_n_649DN"
   },
   "outputs": [],
   "source": [
    "import numpy as np\n",
    "import matplotlib.pyplot as plt"
   ]
  },
  {
   "cell_type": "code",
   "execution_count": 2,
   "metadata": {
    "id": "rfISXMgPFJ3U"
   },
   "outputs": [],
   "source": [
    "x = np.loadtxt(\"https://gist.githubusercontent.com/fazaghifari/3b77115c8423c8521004200c252217ac/raw/2e57c375d8eda83a7c6ad492a823516f1759c058/dataset_test_1.csv\", delimiter=',')\n",
    "x1 = x[:,0]\n",
    "x2 = x[:,1]"
   ]
  },
  {
   "cell_type": "code",
   "execution_count": 3,
   "metadata": {
    "colab": {
     "base_uri": "https://localhost:8080/",
     "height": 282
    },
    "id": "WioJTQKqFY29",
    "outputId": "8ba1c00d-54d0-4ae6-b296-0ceed942b5d7"
   },
   "outputs": [
    {
     "data": {
      "text/plain": [
       "<matplotlib.collections.PathCollection at 0x1e097563438>"
      ]
     },
     "execution_count": 3,
     "metadata": {},
     "output_type": "execute_result"
    },
    {
     "data": {
      "image/png": "[encoded data removed]",
      "text/plain": [
       "<Figure size 432x288 with 1 Axes>"
      ]
     },
     "metadata": {
      "needs_background": "light"
     },
     "output_type": "display_data"
    }
   ],
   "source": [
    "plt.scatter(x1,x2)"
   ]
  },
  {
   "cell_type": "code",
   "execution_count": 4,
   "metadata": {},
   "outputs": [],
   "source": [
    "#dijumlah kedua array \n",
    "#sehingga pada waktu di sort bisa mencari dimana kedua fitur dari \n",
    "#identitasnya kecil\n",
    "xtot = x1+x2"
   ]
  },
  {
   "cell_type": "code",
   "execution_count": 5,
   "metadata": {},
   "outputs": [],
   "source": [
    "#di sort dari xtot dari paling kecil ke besar\n",
    "temp = np.argsort(xtot)"
   ]
  },
  {
   "cell_type": "code",
   "execution_count": 6,
   "metadata": {},
   "outputs": [
    {
     "name": "stdout",
     "output_type": "stream",
     "text": [
      "[ 42 372 257  33  84 112 320  75 389  53 489 325 211 223 423 212 415  29\n",
      " 467  40 224 146 407 251 114 110  28 351 370 437 143   4 397 283 330 354\n",
      " 205 151 406 176 478 271  30 122  91 293  44 387  77  15 187  62  10 220\n",
      " 424 386 448  58 120 279 298 343 375 203 360 102 322 248 409 170 492 309\n",
      " 328 331 395 411 265 121 301 125 183 413 196 104 134 256 399 417 111 392\n",
      " 356 144  95 119 135 230 463 185 180  61 127 339 491 168 365   3  47 455\n",
      " 263 173  20 126 454 364 430 216 362 380 446  78  17 490 475 128  16 165\n",
      "  25 280 260 219 332 226   5 451 474 369 179 306 357 295 267  67 228  18\n",
      "  87 310 420 418   2 182 276 481 259 106 358  94   9 494 434 410  22  83\n",
      "  45 250 155 191 470 158 485 241 427 359 334 194 466 473 340 133 202 275\n",
      " 323 184 405 347 308 484  34 497 495 167 305 274 287  12  39 124 232 245\n",
      " 174 199 361 190 193 314 436 488  63 462 486 439 469 282  72 132 264  65\n",
      " 400 312 214  49  88 394 148 291 390 483 147 456 344 234 383 438 207 206\n",
      " 498 107 333  11 161 371 402 240 109 408 349 204 218 337 435 131 289 432\n",
      "  79  69  90 266 353  54 172   8 496 368 292  51 249 373 154 113  32  36\n",
      " 324 428 108 311 253 186 326 374 396 181 414 188  55  31 197 286 277  56\n",
      " 238  82 235 367 192  43 327 416 302 189 229  71  85 307 178  37 152  26\n",
      " 297 350 221 452 129 100 317  93 355 449 318 222 175 450 422 465 262 239\n",
      " 281 425 479   1 461 258 381 270 237 404  68 261 153 487 342 472 444  81\n",
      " 445  73 169 401 442 254  70 103 130 403 412 247  80   6  46 294 398  57\n",
      " 316 149 123  74 384 304 464 433  13 296 140 477 115 459 476  99  97 166\n",
      " 429 385 336 159 346 118 329  66 352 244 457 210  27 378  92 482 388  48\n",
      " 300 164 315 145 284 471  38 377 366  60 393 285 213 268 288 335 201  50\n",
      " 255 341 117 141 376 227 453 246 138 150 431 236 231 171 290 243 272 105\n",
      " 421 447  52 440 142  19 163 136 338 215 345 499 195 379  86  76 242 273\n",
      " 426 419 160 217 269  89 468 363  14   7 382 200 162 458 116 348 278 443\n",
      " 303  24 233 480 137  96   0 156 391 157 321 493 139  35 198  23 101 313\n",
      " 460 177  21 319 299 225 208 252 209  98  41  64  59 441]\n"
     ]
    }
   ],
   "source": [
    "ranks = np.empty_like(temp)\n",
    "ranks[temp] = np.arange(len(xtot))\n",
    "print(ranks)"
   ]
  },
  {
   "cell_type": "markdown",
   "metadata": {
    "id": "ArCSe3dDFn3h"
   },
   "source": [
    "## Problem 2\n",
    "2. Given a dataset that consists of 7 columns and 500 rows.\n",
    "    - Each row represent a data point with 7 dimensions.\n",
    "    - Now, find the median of those 500 data points.\n",
    "    - For this task you may use the definition of [medoid](https://en.wikipedia.org/wiki/Medoid)   \n",
    "$$\n",
    "\\arg \\min_{\\boldsymbol{z} \\in X} \\sum_{i=1}^n || \\boldsymbol{z} - \\boldsymbol{x}_i||\n",
    "$$\n",
    "\n",
    "> Note: You may use `scipy` for the optimizer, if you need any."
   ]
  },
  {
   "cell_type": "code",
   "execution_count": 7,
   "metadata": {
    "colab": {
     "base_uri": "https://localhost:8080/"
    },
    "id": "o7vSwZIsFf1L",
    "outputId": "9cd083e9-4047-495f-8a83-c4ab0ed37369"
   },
   "outputs": [
    {
     "data": {
      "text/plain": [
       "array([[ 56.,   4.,   0.,  27., 149., 116., 139.],\n",
       "       [ 54., 151., 109., 113.,  75.,  92.,  93.],\n",
       "       [ 39., 113.,  86.,  83.,  91.,  39.,  28.],\n",
       "       [140.,  35.,  73., 144., 125.,  56.,  13.],\n",
       "       [  1.,  32.,  84.,  92., 107.,  87.,  24.]])"
      ]
     },
     "execution_count": 7,
     "metadata": {},
     "output_type": "execute_result"
    }
   ],
   "source": [
    "x = np.loadtxt(\"https://gist.githubusercontent.com/fazaghifari/b58ec5d4ce43a803f1bbaa9df4e694a1/raw/0b5d74f5a025eef277f7ceb6ff4ec5c28dcc3386/dataset_test_2.csv\", delimiter=',')\n",
    "x[:5,:]"
   ]
  },
  {
   "cell_type": "code",
   "execution_count": 8,
   "metadata": {
    "id": "oqJIBG91M6hn"
   },
   "outputs": [],
   "source": [
    "def medoid(x):\n",
    "    d = x.T[:, None, :] - x.T\n",
    "    #distance\n",
    "    s = np.einsum('ijk,ijk->ij', d, d)\n",
    "    #rumus medoid\n",
    "    index = np.argmin(np.sum(np.sqrt(s), axis=1))\n",
    "    return x[index, :]"
   ]
  },
  {
   "cell_type": "code",
   "execution_count": 9,
   "metadata": {},
   "outputs": [
    {
     "name": "stdout",
     "output_type": "stream",
     "text": [
      "[ 35.  10.  63. 129.  20.  99.  61.]\n"
     ]
    }
   ],
   "source": [
    "print(medoid(x))"
   ]
  },
  {
   "cell_type": "markdown",
   "metadata": {
    "id": "HHsma70XOjgu"
   },
   "source": [
    "## Problem 3\n",
    "\n",
    "3. You are drawing from a Normally Distributed random variable $X \\sim N(0,1)$ once a day. What is the approximate expected number of days until you get a value of more than 2?\n",
    "\n",
    "> Write a function to proof your answer. This can be done using `numpy` only."
   ]
  },
  {
   "cell_type": "code",
   "execution_count": 10,
   "metadata": {
    "id": "cd7MWrfYPYpH"
   },
   "outputs": [],
   "source": [
    "#total hari\n",
    "total = 0\n",
    "#dilakukan 100000 percobaan\n",
    "for x in range(100000):\n",
    "    val = 0\n",
    "    days = 0\n",
    "    #selama val masih dibawah 2 hari ditambahkan\n",
    "    while val < 2:\n",
    "        days = days+1\n",
    "        val = np.random.normal(0,1)\n",
    "    total += days"
   ]
  },
  {
   "cell_type": "code",
   "execution_count": 11,
   "metadata": {},
   "outputs": [
    {
     "name": "stdout",
     "output_type": "stream",
     "text": [
      "Dari percobaan 100000 kali, ditemukan bahwa dibutuhkan rata-rata 44.02811 hari untuk mendapatkan value lebih dari 2\n"
     ]
    }
   ],
   "source": [
    "print(\"Dari percobaan 100000 kali, ditemukan bahwa dibutuhkan rata-rata \"+ str(total/100000) + \" hari untuk mendapatkan value lebih dari 2\" )"
   ]
  }
 ],
 "metadata": {
  "colab": {
   "collapsed_sections": [],
   "name": "Copy of Pacmann_Research_Scientist_test.ipynb",
   "provenance": []
  },
  "kernelspec": {
   "display_name": "Python 3",
   "language": "python",
   "name": "python3"
  },
  "language_info": {
   "codemirror_mode": {
    "name": "ipython",
    "version": 3
   },
   "file_extension": ".py",
   "mimetype": "text/x-python",
   "name": "python",
   "nbconvert_exporter": "python",
   "pygments_lexer": "ipython3",
   "version": "3.6.12"
  }
 },
 "nbformat": 4,
 "nbformat_minor": 1
}
